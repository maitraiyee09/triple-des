{
  "nbformat": 4,
  "nbformat_minor": 0,
  "metadata": {
    "colab": {
      "provenance": [],
      "authorship_tag": "ABX9TyPS/JJW19QhxJDg7HBLhwdY",
      "include_colab_link": true
    },
    "kernelspec": {
      "name": "python3",
      "display_name": "Python 3"
    },
    "language_info": {
      "name": "python"
    }
  },
  "cells": [
    {
      "cell_type": "markdown",
      "metadata": {
        "id": "view-in-github",
        "colab_type": "text"
      },
      "source": [
        "<a href=\"https://colab.research.google.com/github/maitraiyee09/triple-des/blob/main/Untitled1.ipynb\" target=\"_parent\"><img src=\"https://colab.research.google.com/assets/colab-badge.svg\" alt=\"Open In Colab\"/></a>"
      ]
    },
    {
      "cell_type": "code",
      "execution_count": 1,
      "metadata": {
        "colab": {
          "base_uri": "https://localhost:8080/"
        },
        "id": "FUg-n6X-R2xk",
        "outputId": "92e64f73-b24f-45a9-d1e2-cca415133f89"
      },
      "outputs": [
        {
          "output_type": "stream",
          "name": "stdout",
          "text": [
            "Looking in indexes: https://pypi.org/simple, https://us-python.pkg.dev/colab-wheels/public/simple/\n",
            "Collecting pycryptodome\n",
            "  Downloading pycryptodome-3.18.0-cp35-abi3-manylinux_2_17_x86_64.manylinux2014_x86_64.whl (2.1 MB)\n",
            "\u001b[2K     \u001b[90m━━━━━━━━━━━━━━━━━━━━━━━━━━━━━━━━━━━━━━━━\u001b[0m \u001b[32m2.1/2.1 MB\u001b[0m \u001b[31m33.9 MB/s\u001b[0m eta \u001b[36m0:00:00\u001b[0m\n",
            "\u001b[?25hRequirement already satisfied: pillow in /usr/local/lib/python3.10/dist-packages (8.4.0)\n",
            "Installing collected packages: pycryptodome\n",
            "Successfully installed pycryptodome-3.18.0\n"
          ]
        }
      ],
      "source": [
        "pip install pycryptodome pillow\n"
      ]
    },
    {
      "cell_type": "code",
      "source": [
        "from Crypto.Cipher import DES3\n",
        "from Crypto.Util.Padding import pad\n",
        "from Crypto.Random import get_random_bytes\n",
        "from PIL import Image\n",
        "\n",
        "# Encrypt image using Triple DES\n",
        "def encrypt_image(image_path, key):\n",
        "    # Open the image file\n",
        "    image = Image.open(image_path)\n",
        "\n",
        "    # Convert the image to RGB mode (if not already)\n",
        "    image = image.convert('RGB')\n",
        "\n",
        "    # Generate a random 8-byte IV (Initialization Vector)\n",
        "    iv = get_random_bytes(8)\n",
        "\n",
        "    # Encrypt the image data\n",
        "    data = image.tobytes()\n",
        "    cipher = DES3.new(key, DES3.MODE_CBC, iv)\n",
        "    encrypted_data = cipher.encrypt(pad(data, DES3.block_size))\n",
        "\n",
        "    # Create a new image with the encrypted data\n",
        "    encrypted_image = Image.frombytes('RGB', image.size, encrypted_data)\n",
        "\n",
        "    # Save the IV and encrypted image to files\n",
        "    encrypted_image_path = 'encrypted_image.jpg'\n",
        "    iv_path = 'iv.txt'\n",
        "\n",
        "    encrypted_image.save(encrypted_image_path)\n",
        "    with open(iv_path, 'wb') as iv_file:\n",
        "        iv_file.write(iv)\n",
        "\n",
        "    print('Image encrypted successfully.')\n",
        "    print('Encrypted image saved as:', encrypted_image_path)\n",
        "    print('IV saved as:', iv_path)\n",
        "\n",
        "# Example usage\n",
        "if __name__ == \"__main__\":\n",
        "    # Specify the path to the image file\n",
        "    image_path = '1.png'\n",
        "\n",
        "    # Generate a random 24-byte key (Triple DES requires 24 bytes)\n",
        "    key = get_random_bytes(24)\n",
        "\n",
        "    # Encrypt the image\n",
        "    encrypt_image(image_path, key)\n"
      ],
      "metadata": {
        "colab": {
          "base_uri": "https://localhost:8080/"
        },
        "id": "7ZpxE7fkSBSF",
        "outputId": "eb427c9a-e229-45ae-fee6-b015946177a4"
      },
      "execution_count": 2,
      "outputs": [
        {
          "output_type": "stream",
          "name": "stdout",
          "text": [
            "Image encrypted successfully.\n",
            "Encrypted image saved as: encrypted_image.jpg\n",
            "IV saved as: iv.txt\n"
          ]
        }
      ]
    }
  ]
}